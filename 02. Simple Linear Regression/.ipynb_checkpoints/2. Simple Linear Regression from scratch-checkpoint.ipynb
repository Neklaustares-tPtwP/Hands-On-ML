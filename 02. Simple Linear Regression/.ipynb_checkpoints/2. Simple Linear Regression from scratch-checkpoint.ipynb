{
 "cells": [
  {
   "cell_type": "markdown",
   "metadata": {},
   "source": [
    "# Simple Linear Regression from scratch"
   ]
  },
  {
   "cell_type": "markdown",
   "metadata": {},
   "source": [
    "#### Import required libraries"
   ]
  },
  {
   "cell_type": "code",
   "execution_count": 1,
   "metadata": {},
   "outputs": [],
   "source": [
    "import numpy as np\n",
    "import pandas as pd\n",
    "import matplotlib.pyplot as plt\n",
    "from scipy import stats"
   ]
  },
  {
   "cell_type": "markdown",
   "metadata": {},
   "source": [
    "#### Create a class for Linear Regression"
   ]
  },
  {
   "cell_type": "code",
   "execution_count": 2,
   "metadata": {},
   "outputs": [],
   "source": [
    "class LinearRegression:\n",
    "    def __init__(self, x, y):\n",
    "        self.x = x\n",
    "        self.y = y\n",
    "        \n",
    "        #Number of iterations of the Gradient Descent Algorithm\n",
    "        self.max_iter = 1000000\n",
    "        \n",
    "        self.eps=1e-9\n",
    "        \n",
    "        #Learning Rate\n",
    "        self.alpha = 0.0001\n",
    "        \n",
    "        #Loss arr\n",
    "        self.loss_arr = []\n",
    "        \n",
    "        \n",
    "    def stochasticGradientDescent(self):\n",
    "        \n",
    "        \n",
    "        #Initialize w and b with random value\n",
    "        w = 0.1\n",
    "        b = 0.1\n",
    "        alpha = 0.00001\n",
    "        \n",
    "        check = True\n",
    "        iter = 0\n",
    "        self.loss_arr = []\n",
    "        while check:\n",
    "            for j in range(len(self.x)):\n",
    "                prev_w = w\n",
    "                prev_b = b\n",
    "                \n",
    "                #Calculate y_pred\n",
    "                y_pred = w * self.x[j] + b\n",
    "                \n",
    "                #Update slope\n",
    "                w = w - alpha * (y_pred - self.y[j]) * self.x[j]\n",
    "                \n",
    "                #Update intercept\n",
    "                b = b - alpha * (y_pred - self.y[j]) * 1\n",
    "                \n",
    "                self.loss_arr.append((y_pred - self.y[j])**2)\n",
    "                \n",
    "                iter += 1\n",
    "                \n",
    "                if (np.abs(w-prev_w) < self.eps and np.abs(b-prev_b) < self.eps) or iter == self.max_iter:\n",
    "                    check = False\n",
    "        \n",
    "        print(\"Stochastic Gradient Descent algorithm took {} iters to converge\".format(iter))\n",
    "                \n",
    "        return w,b\n",
    "    \n",
    "    def batchGradientDescent(self):\n",
    "        \n",
    "        #Initialize w and b with a random value\n",
    "        w=0.1\n",
    "        b=0.1\n",
    "        \n",
    "        check = True\n",
    "        iter = 0\n",
    "        n = len(self.x)\n",
    "        self.loss_arr = []\n",
    "        \n",
    "        while check:\n",
    "            \n",
    "            cost_intercept = 0\n",
    "            cost_slope = 0\n",
    "            \n",
    "            prev_w = w\n",
    "            prev_b = b\n",
    "            \n",
    "            \n",
    "            for j in range(len(self.x)):\n",
    "                \n",
    "                #Calculate y_pred\n",
    "                y_pred = w * self.x[j] + b\n",
    "                \n",
    "                #Calculate loss for the entire batch\n",
    "                cost_intercept +=  (y_pred - self.y[j])*1 \n",
    "                \n",
    "                cost_slope +=  (y_pred - self.y[j])*self.x[j]\n",
    "            \n",
    "            #Update slope\n",
    "            w = w - self.alpha * cost_slope / n\n",
    "                \n",
    "            #Update intercept\n",
    "            b = b - self.alpha * cost_intercept / n\n",
    "            \n",
    "            iter += 1\n",
    "                \n",
    "            if (np.abs(w-prev_w) < self.eps and np.abs(b-prev_b) < self.eps) or iter == self.max_iter:\n",
    "                check = False \n",
    "                \n",
    "        print(\"Batch Gradient Descent algorithm took {} iters to converge\".format(iter))\n",
    "                \n",
    "        return w,b\n",
    "    \n",
    "    \n",
    "    def normalEquation(self):\n",
    "        \n",
    "        #Initialize w and b with random value\n",
    "        w = 0.1\n",
    "        b = 0.1\n",
    "        \n",
    "        #Create arrays for vectorized calculations using Numpy\n",
    "        x_arr = np.array(self.x)\n",
    "        y_arr = np.array(self.y)\n",
    "        \n",
    "        \n",
    "        num = np.mean(x_arr*y_arr) - np.mean(x_arr)*np.mean(y_arr)\n",
    "        den = np.mean(np.square(x_arr)) - np.square(np.mean(x_arr))\n",
    "        w = num/den\n",
    "        \n",
    "        b = np.mean(y_arr) - w*np.mean(x_arr)\n",
    "        \n",
    "        return w,b\n",
    "    \n",
    "    \n",
    "    def newtonMethod(self):\n",
    "        #Create arrays for vectorized calculations using Numpy\n",
    "        x_arr = np.array(self.x)\n",
    "        y_arr = np.array(self.y)\n",
    "        \n",
    "        \n",
    "        #Reshape x_arr and y_arr for matrix operations\n",
    "        x_arr = x_arr.reshape(x_arr.shape[0], 1)\n",
    "        y_arr = y_arr.reshape(y_arr.shape[0], 1)\n",
    "        \n",
    "        #Modify x_arr to 2-D, x[0] = 1\n",
    "        x_arr = np.insert(x_arr, 0, 1, axis=1)\n",
    "        \n",
    "        #Initialize w_arr\n",
    "        w_arr = np.ones((2, 1))\n",
    "        \n",
    "        #Source for Gradient and Hessian Equations\n",
    "        #https://www.cs.ubc.ca/~schmidtm/Courses/Notes/linearQuadraticGradients.pdf\n",
    "        \n",
    "        \n",
    "        check = True\n",
    "        iter = 0\n",
    "        while check and iter < self.max_iter:\n",
    "            \n",
    "            old_w_arr = w_arr\n",
    "            \n",
    "            #Calculate the gradient\n",
    "            gradientLoss = np.matmul(np.dot(x_arr.T,x_arr),w_arr) - np.matmul(x_arr.T,y_arr)\n",
    "        \n",
    "            #Calculate the hessian\n",
    "            hessianLoss = np.dot(x_arr.T,x_arr)\n",
    "\n",
    "            #Calculate the hessian inverse\n",
    "            hessianLossInv = np.linalg.inv(hessianLoss)\n",
    "            \n",
    "            #Use Newton's method to update w_arr\n",
    "            w_arr = old_w_arr - np.matmul(hessianLossInv,gradientLoss)\n",
    "            \n",
    "            \n",
    "            #Difference between new and old theta\n",
    "            diff = np.linalg.norm(w_arr - old_w_arr)\n",
    "            \n",
    "            #Check if the difference is less than the eps specified\n",
    "            if abs(diff) < self.eps:\n",
    "                print(\"Linear Regression Algorithm converged\")\n",
    "                check = False\n",
    "            \n",
    "            print(\"This is iter: \", iter)\n",
    "            print(\"This is w after Newton Method: \", w_arr)\n",
    "            print(\"*\"*10)\n",
    "            iter += 1\n",
    "        \n",
    "        # return slope, intercept\n",
    "        return w_arr[1,0], w_arr[0,0]\n",
    "                \n",
    "        \n",
    "\n",
    "    \n",
    "    def fit(self):\n",
    "        #Fit the model\n",
    "        return np.multiply(self.slope,self.x) + self.intercept\n",
    "    \n",
    "    \n",
    "    def drawPlot(self):\n",
    "        #Plot the dataset and model\n",
    "        plt.scatter(self.x, self.y)\n",
    "        plt.title(\"Simple Linear Regression\")\n",
    "        plt.xlabel(\"Salary in USD'000\")\n",
    "        plt.ylabel(\"Money spent on car purchase in USD'000\")\n",
    "        plt.plot(self.x, self.myModel)\n",
    "        plt.show()   "
   ]
  },
  {
   "cell_type": "markdown",
   "metadata": {},
   "source": [
    "#### Importing dataset"
   ]
  },
  {
   "cell_type": "code",
   "execution_count": 3,
   "metadata": {},
   "outputs": [],
   "source": [
    "dataset = pd.read_csv(\"Salary_Data.csv\") \n",
    "#x - Years of Experience (Independent variable)\n",
    "x =  dataset.iloc[:,:-1].values\n",
    "\n",
    "#y - Salary (Dependent variable)\n",
    "y = dataset.iloc[:,1].values"
   ]
  },
  {
   "cell_type": "code",
   "execution_count": 4,
   "metadata": {},
   "outputs": [],
   "source": [
    "#Create an object of the class\n",
    "myLinearReg = LinearRegression(x,y)"
   ]
  },
  {
   "cell_type": "markdown",
   "metadata": {},
   "source": [
    "------------"
   ]
  },
  {
   "cell_type": "markdown",
   "metadata": {},
   "source": [
    "### Linear Regression\n",
    "\n",
    "#### In Linear Regression, there are several methods for determining the parameters that minimizes the Loss function. One of them is Gradient Descent."
   ]
  },
  {
   "cell_type": "markdown",
   "metadata": {},
   "source": [
    "-----------------------"
   ]
  },
  {
   "cell_type": "markdown",
   "metadata": {},
   "source": [
    "### Gradient Descent"
   ]
  },
  {
   "cell_type": "markdown",
   "metadata": {},
   "source": [
    "#### The Mathematics of Gradient Descent\n",
    "\n",
    "First we define the Hypothesis function - $h_{\\theta}x = \\theta_0 + \\theta_1*x_1 $\n",
    "\n",
    "Then, we define our cost function - $J(\\theta) = (1/2n)\\sum_{i=1}^{n} (h_{\\theta}x^{(i)}-y^{(i)})^2 $\n",
    "\n",
    "Next, we define the Gradient Descent update rule - $ \\theta_j := \\theta_j - \\alpha \\frac{\\partial}{\\partial \\theta_j} J(\\theta)$\n",
    "\n",
    "Here, $\\alpha$ is the learning rate.\n",
    "\n",
    "Calculating the Partial Derivative of $J(\\theta)$\n",
    "\n",
    "$\\frac{\\partial}{\\partial \\theta_j}J(\\theta) = \\frac{\\partial}{\\partial \\theta_j} \\frac{1}{2}(h_{\\theta}x-y)^2$\n",
    "\n",
    "$= 2*\\frac{1}{2}*(h_{\\theta}x-y)*\\frac{\\partial}{\\partial \\theta_j}(h_{\\theta}x-y)$\n",
    "\n",
    "$= 2*\\frac{1}{2}*(h_{\\theta}x-y)*\\frac{\\partial}{\\partial \\theta_j}\\sum_{i=0}^{d} (\\theta_{i} x_{i}-y)$\n",
    "\n",
    "$= (h_{\\theta}x-y)*x_j$\n",
    "\n",
    "For a single training example, the Gradient Descent update rule is\n",
    "$ \\theta_j := \\theta_j - \\alpha (h_{\\theta}x-y)*x_j$\n",
    "\n",
    "The rule is called the LMS update rule (LMS stands for “least mean squares”), and is also known as the Widrow-Hoff learning rule. "
   ]
  },
  {
   "cell_type": "markdown",
   "metadata": {},
   "source": [
    "#### Execute the Stochastic Gradient Descent()"
   ]
  },
  {
   "cell_type": "code",
   "execution_count": 5,
   "metadata": {},
   "outputs": [
    {
     "name": "stdout",
     "output_type": "stream",
     "text": [
      "Stochastic Gradient Descent algorithm took 1000020 iters to converge\n",
      "This is slope:  [9875.77312856]\n",
      "This is intercept:  [22917.7915499]\n"
     ]
    }
   ],
   "source": [
    "myLinearReg.slope, myLinearReg.intercept = myLinearReg.stochasticGradientDescent()\n",
    "print(\"This is slope: \", myLinearReg.slope)\n",
    "print(\"This is intercept: \", myLinearReg.intercept)"
   ]
  },
  {
   "cell_type": "code",
   "execution_count": 6,
   "metadata": {},
   "outputs": [
    {
     "data": {
      "image/png": "[encoded data removed]",
      "text/plain": [
       "<Figure size 432x288 with 1 Axes>"
      ]
     },
     "metadata": {
      "needs_background": "light"
     },
     "output_type": "display_data"
    }
   ],
   "source": [
    "myLinearReg.myModel = myLinearReg.fit()\n",
    "myLinearReg.drawPlot()"
   ]
  },
  {
   "cell_type": "code",
   "execution_count": 7,
   "metadata": {},
   "outputs": [
    {
     "name": "stdout",
     "output_type": "stream",
     "text": [
      "This is the length of loss_arr:  1000020\n"
     ]
    }
   ],
   "source": [
    "print(\"This is the length of loss_arr: \", len(myLinearReg.loss_arr))"
   ]
  },
  {
   "cell_type": "code",
   "execution_count": 8,
   "metadata": {},
   "outputs": [],
   "source": [
    "iter_arr = [x for x in range(len(myLinearReg.loss_arr))]"
   ]
  },
  {
   "cell_type": "code",
   "execution_count": 9,
   "metadata": {},
   "outputs": [
    {
     "data": {
      "image/png": "[encoded data removed]",
      "text/plain": [
       "<Figure size 432x288 with 1 Axes>"
      ]
     },
     "metadata": {
      "needs_background": "light"
     },
     "output_type": "display_data"
    }
   ],
   "source": [
    "plt.plot(iter_arr, myLinearReg.loss_arr)\n",
    "plt.show()   "
   ]
  },
  {
   "cell_type": "markdown",
   "metadata": {},
   "source": [
    "#### Execute the Batch Gradient Descent()"
   ]
  },
  {
   "cell_type": "code",
   "execution_count": 10,
   "metadata": {},
   "outputs": [
    {
     "name": "stdout",
     "output_type": "stream",
     "text": [
      "Batch Gradient Descent algorithm took 947453 iters to converge\n",
      "This is slope:  [9449.96232846]\n",
      "This is intercept:  [25792.20015146]\n"
     ]
    }
   ],
   "source": [
    "myLinearReg.slope, myLinearReg.intercept = myLinearReg.batchGradientDescent()\n",
    "print(\"This is slope: \", myLinearReg.slope)\n",
    "print(\"This is intercept: \", myLinearReg.intercept)"
   ]
  },
  {
   "cell_type": "code",
   "execution_count": 11,
   "metadata": {},
   "outputs": [
    {
     "data": {
      "image/png": "[encoded data removed]",
      "text/plain": [
       "<Figure size 432x288 with 1 Axes>"
      ]
     },
     "metadata": {
      "needs_background": "light"
     },
     "output_type": "display_data"
    }
   ],
   "source": [
    "myLinearReg.myModel = myLinearReg.fit()\n",
    "myLinearReg.drawPlot()"
   ]
  }
 ],
 "metadata": {
  "kernelspec": {
   "display_name": "Python 3",
   "language": "python",
   "name": "python3"
  },
  "language_info": {
   "codemirror_mode": {
    "name": "ipython",
    "version": 3
   },
   "file_extension": ".py",
   "mimetype": "text/x-python",
   "name": "python",
   "nbconvert_exporter": "python",
   "pygments_lexer": "ipython3",
   "version": "3.7.0"
  }
 },
 "nbformat": 4,
 "nbformat_minor": 4
}
