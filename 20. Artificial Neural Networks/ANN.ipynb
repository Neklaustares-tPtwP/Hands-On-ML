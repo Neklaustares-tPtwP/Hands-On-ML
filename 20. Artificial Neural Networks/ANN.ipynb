{
 "cells": [
  {
   "cell_type": "markdown",
   "id": "5aa1cba2-379a-46be-877d-bd68ad37a051",
   "metadata": {},
   "source": [
    "# Artificial Neural Network"
   ]
  },
  {
   "cell_type": "markdown",
   "id": "f47c2dc5-5eb8-46b1-966a-2e9e33d767a3",
   "metadata": {},
   "source": [
    "#### Data Preprocessing"
   ]
  },
  {
   "cell_type": "code",
   "execution_count": 1,
   "id": "627bf6e9-96cc-428e-9968-d98918300565",
   "metadata": {},
   "outputs": [],
   "source": [
    "import numpy as np\n",
    "import matplotlib.pyplot as plt\n",
    "import pandas as pd\n",
    "import warnings\n",
    "warnings.filterwarnings('ignore')"
   ]
  },
  {
   "cell_type": "code",
   "execution_count": 2,
   "id": "562bc144-3417-482b-8e4a-688044e663bc",
   "metadata": {},
   "outputs": [
    {
     "data": {
      "text/html": [
       "<div>\n",
       "<style scoped>\n",
       "    .dataframe tbody tr th:only-of-type {\n",
       "        vertical-align: middle;\n",
       "    }\n",
       "\n",
       "    .dataframe tbody tr th {\n",
       "        vertical-align: top;\n",
       "    }\n",
       "\n",
       "    .dataframe thead th {\n",
       "        text-align: right;\n",
       "    }\n",
       "</style>\n",
       "<table border=\"1\" class=\"dataframe\">\n",
       "  <thead>\n",
       "    <tr style=\"text-align: right;\">\n",
       "      <th></th>\n",
       "      <th>RowNumber</th>\n",
       "      <th>CustomerId</th>\n",
       "      <th>Surname</th>\n",
       "      <th>CreditScore</th>\n",
       "      <th>Geography</th>\n",
       "      <th>Gender</th>\n",
       "      <th>Age</th>\n",
       "      <th>Tenure</th>\n",
       "      <th>Balance</th>\n",
       "      <th>NumOfProducts</th>\n",
       "      <th>HasCrCard</th>\n",
       "      <th>IsActiveMember</th>\n",
       "      <th>EstimatedSalary</th>\n",
       "      <th>Exited</th>\n",
       "    </tr>\n",
       "  </thead>\n",
       "  <tbody>\n",
       "    <tr>\n",
       "      <th>0</th>\n",
       "      <td>1</td>\n",
       "      <td>15634602</td>\n",
       "      <td>Hargrave</td>\n",
       "      <td>619</td>\n",
       "      <td>France</td>\n",
       "      <td>Female</td>\n",
       "      <td>42</td>\n",
       "      <td>2</td>\n",
       "      <td>0.00</td>\n",
       "      <td>1</td>\n",
       "      <td>1</td>\n",
       "      <td>1</td>\n",
       "      <td>101348.88</td>\n",
       "      <td>1</td>\n",
       "    </tr>\n",
       "    <tr>\n",
       "      <th>1</th>\n",
       "      <td>2</td>\n",
       "      <td>15647311</td>\n",
       "      <td>Hill</td>\n",
       "      <td>608</td>\n",
       "      <td>Spain</td>\n",
       "      <td>Female</td>\n",
       "      <td>41</td>\n",
       "      <td>1</td>\n",
       "      <td>83807.86</td>\n",
       "      <td>1</td>\n",
       "      <td>0</td>\n",
       "      <td>1</td>\n",
       "      <td>112542.58</td>\n",
       "      <td>0</td>\n",
       "    </tr>\n",
       "    <tr>\n",
       "      <th>2</th>\n",
       "      <td>3</td>\n",
       "      <td>15619304</td>\n",
       "      <td>Onio</td>\n",
       "      <td>502</td>\n",
       "      <td>France</td>\n",
       "      <td>Female</td>\n",
       "      <td>42</td>\n",
       "      <td>8</td>\n",
       "      <td>159660.80</td>\n",
       "      <td>3</td>\n",
       "      <td>1</td>\n",
       "      <td>0</td>\n",
       "      <td>113931.57</td>\n",
       "      <td>1</td>\n",
       "    </tr>\n",
       "    <tr>\n",
       "      <th>3</th>\n",
       "      <td>4</td>\n",
       "      <td>15701354</td>\n",
       "      <td>Boni</td>\n",
       "      <td>699</td>\n",
       "      <td>France</td>\n",
       "      <td>Female</td>\n",
       "      <td>39</td>\n",
       "      <td>1</td>\n",
       "      <td>0.00</td>\n",
       "      <td>2</td>\n",
       "      <td>0</td>\n",
       "      <td>0</td>\n",
       "      <td>93826.63</td>\n",
       "      <td>0</td>\n",
       "    </tr>\n",
       "    <tr>\n",
       "      <th>4</th>\n",
       "      <td>5</td>\n",
       "      <td>15737888</td>\n",
       "      <td>Mitchell</td>\n",
       "      <td>850</td>\n",
       "      <td>Spain</td>\n",
       "      <td>Female</td>\n",
       "      <td>43</td>\n",
       "      <td>2</td>\n",
       "      <td>125510.82</td>\n",
       "      <td>1</td>\n",
       "      <td>1</td>\n",
       "      <td>1</td>\n",
       "      <td>79084.10</td>\n",
       "      <td>0</td>\n",
       "    </tr>\n",
       "    <tr>\n",
       "      <th>...</th>\n",
       "      <td>...</td>\n",
       "      <td>...</td>\n",
       "      <td>...</td>\n",
       "      <td>...</td>\n",
       "      <td>...</td>\n",
       "      <td>...</td>\n",
       "      <td>...</td>\n",
       "      <td>...</td>\n",
       "      <td>...</td>\n",
       "      <td>...</td>\n",
       "      <td>...</td>\n",
       "      <td>...</td>\n",
       "      <td>...</td>\n",
       "      <td>...</td>\n",
       "    </tr>\n",
       "    <tr>\n",
       "      <th>9995</th>\n",
       "      <td>9996</td>\n",
       "      <td>15606229</td>\n",
       "      <td>Obijiaku</td>\n",
       "      <td>771</td>\n",
       "      <td>France</td>\n",
       "      <td>Male</td>\n",
       "      <td>39</td>\n",
       "      <td>5</td>\n",
       "      <td>0.00</td>\n",
       "      <td>2</td>\n",
       "      <td>1</td>\n",
       "      <td>0</td>\n",
       "      <td>96270.64</td>\n",
       "      <td>0</td>\n",
       "    </tr>\n",
       "    <tr>\n",
       "      <th>9996</th>\n",
       "      <td>9997</td>\n",
       "      <td>15569892</td>\n",
       "      <td>Johnstone</td>\n",
       "      <td>516</td>\n",
       "      <td>France</td>\n",
       "      <td>Male</td>\n",
       "      <td>35</td>\n",
       "      <td>10</td>\n",
       "      <td>57369.61</td>\n",
       "      <td>1</td>\n",
       "      <td>1</td>\n",
       "      <td>1</td>\n",
       "      <td>101699.77</td>\n",
       "      <td>0</td>\n",
       "    </tr>\n",
       "    <tr>\n",
       "      <th>9997</th>\n",
       "      <td>9998</td>\n",
       "      <td>15584532</td>\n",
       "      <td>Liu</td>\n",
       "      <td>709</td>\n",
       "      <td>France</td>\n",
       "      <td>Female</td>\n",
       "      <td>36</td>\n",
       "      <td>7</td>\n",
       "      <td>0.00</td>\n",
       "      <td>1</td>\n",
       "      <td>0</td>\n",
       "      <td>1</td>\n",
       "      <td>42085.58</td>\n",
       "      <td>1</td>\n",
       "    </tr>\n",
       "    <tr>\n",
       "      <th>9998</th>\n",
       "      <td>9999</td>\n",
       "      <td>15682355</td>\n",
       "      <td>Sabbatini</td>\n",
       "      <td>772</td>\n",
       "      <td>Germany</td>\n",
       "      <td>Male</td>\n",
       "      <td>42</td>\n",
       "      <td>3</td>\n",
       "      <td>75075.31</td>\n",
       "      <td>2</td>\n",
       "      <td>1</td>\n",
       "      <td>0</td>\n",
       "      <td>92888.52</td>\n",
       "      <td>1</td>\n",
       "    </tr>\n",
       "    <tr>\n",
       "      <th>9999</th>\n",
       "      <td>10000</td>\n",
       "      <td>15628319</td>\n",
       "      <td>Walker</td>\n",
       "      <td>792</td>\n",
       "      <td>France</td>\n",
       "      <td>Female</td>\n",
       "      <td>28</td>\n",
       "      <td>4</td>\n",
       "      <td>130142.79</td>\n",
       "      <td>1</td>\n",
       "      <td>1</td>\n",
       "      <td>0</td>\n",
       "      <td>38190.78</td>\n",
       "      <td>0</td>\n",
       "    </tr>\n",
       "  </tbody>\n",
       "</table>\n",
       "<p>10000 rows × 14 columns</p>\n",
       "</div>"
      ],
      "text/plain": [
       "      RowNumber  CustomerId    Surname  CreditScore Geography  Gender  Age  \\\n",
       "0             1    15634602   Hargrave          619    France  Female   42   \n",
       "1             2    15647311       Hill          608     Spain  Female   41   \n",
       "2             3    15619304       Onio          502    France  Female   42   \n",
       "3             4    15701354       Boni          699    France  Female   39   \n",
       "4             5    15737888   Mitchell          850     Spain  Female   43   \n",
       "...         ...         ...        ...          ...       ...     ...  ...   \n",
       "9995       9996    15606229   Obijiaku          771    France    Male   39   \n",
       "9996       9997    15569892  Johnstone          516    France    Male   35   \n",
       "9997       9998    15584532        Liu          709    France  Female   36   \n",
       "9998       9999    15682355  Sabbatini          772   Germany    Male   42   \n",
       "9999      10000    15628319     Walker          792    France  Female   28   \n",
       "\n",
       "      Tenure    Balance  NumOfProducts  HasCrCard  IsActiveMember  \\\n",
       "0          2       0.00              1          1               1   \n",
       "1          1   83807.86              1          0               1   \n",
       "2          8  159660.80              3          1               0   \n",
       "3          1       0.00              2          0               0   \n",
       "4          2  125510.82              1          1               1   \n",
       "...      ...        ...            ...        ...             ...   \n",
       "9995       5       0.00              2          1               0   \n",
       "9996      10   57369.61              1          1               1   \n",
       "9997       7       0.00              1          0               1   \n",
       "9998       3   75075.31              2          1               0   \n",
       "9999       4  130142.79              1          1               0   \n",
       "\n",
       "      EstimatedSalary  Exited  \n",
       "0           101348.88       1  \n",
       "1           112542.58       0  \n",
       "2           113931.57       1  \n",
       "3            93826.63       0  \n",
       "4            79084.10       0  \n",
       "...               ...     ...  \n",
       "9995         96270.64       0  \n",
       "9996        101699.77       0  \n",
       "9997         42085.58       1  \n",
       "9998         92888.52       1  \n",
       "9999         38190.78       0  \n",
       "\n",
       "[10000 rows x 14 columns]"
      ]
     },
     "execution_count": 2,
     "metadata": {},
     "output_type": "execute_result"
    }
   ],
   "source": [
    "dataset = pd.read_csv(\"Churn_Modelling.csv\")\n",
    "dataset"
   ]
  },
  {
   "cell_type": "code",
   "execution_count": 3,
   "id": "6e508087-ed74-4b66-a74f-847b992620fb",
   "metadata": {},
   "outputs": [],
   "source": [
    "X = dataset.iloc[:, 3:13].values\n",
    "y = dataset.iloc[:,13].values"
   ]
  },
  {
   "cell_type": "code",
   "execution_count": 4,
   "id": "35225fab-7a9d-4b86-90ea-5a91b1c83604",
   "metadata": {},
   "outputs": [
    {
     "data": {
      "text/plain": [
       "(array([[619, 'France', 'Female', ..., 1, 1, 101348.88],\n",
       "        [608, 'Spain', 'Female', ..., 0, 1, 112542.58],\n",
       "        [502, 'France', 'Female', ..., 1, 0, 113931.57],\n",
       "        ...,\n",
       "        [709, 'France', 'Female', ..., 0, 1, 42085.58],\n",
       "        [772, 'Germany', 'Male', ..., 1, 0, 92888.52],\n",
       "        [792, 'France', 'Female', ..., 1, 0, 38190.78]], dtype=object),\n",
       " array([1, 0, 1, ..., 1, 1, 0], dtype=int64))"
      ]
     },
     "execution_count": 4,
     "metadata": {},
     "output_type": "execute_result"
    }
   ],
   "source": [
    "X,y"
   ]
  },
  {
   "cell_type": "code",
   "execution_count": 5,
   "id": "a2d9d95d-229b-44dc-ae90-84d715a2b559",
   "metadata": {},
   "outputs": [],
   "source": [
    "from sklearn.preprocessing import LabelEncoder\n",
    "labelencoder_X_1 = LabelEncoder()\n",
    "X[:,1] = labelencoder_X_1.fit_transform(X[:,1])\n",
    "labelencoder_X_2 = LabelEncoder()\n",
    "X[:,2] = labelencoder_X_2.fit_transform(X[:,2])\n",
    "\n",
    "from sklearn.preprocessing import OneHotEncoder\n",
    "from sklearn.compose import ColumnTransformer\n",
    "columnTransformer = ColumnTransformer([('encoder', OneHotEncoder(), [1])], remainder='passthrough')\n",
    "X=np.array(columnTransformer.fit_transform(X),dtype=np.str)\n",
    "X = X.astype(np.float64)\n",
    "X = X[:, 1:]"
   ]
  },
  {
   "cell_type": "code",
   "execution_count": 6,
   "id": "529db475-ba9f-43a3-8352-40cf1aae5132",
   "metadata": {},
   "outputs": [
    {
     "data": {
      "text/plain": [
       "(array([[0.0000000e+00, 0.0000000e+00, 6.1900000e+02, ..., 1.0000000e+00,\n",
       "         1.0000000e+00, 1.0134888e+05],\n",
       "        [0.0000000e+00, 1.0000000e+00, 6.0800000e+02, ..., 0.0000000e+00,\n",
       "         1.0000000e+00, 1.1254258e+05],\n",
       "        [0.0000000e+00, 0.0000000e+00, 5.0200000e+02, ..., 1.0000000e+00,\n",
       "         0.0000000e+00, 1.1393157e+05],\n",
       "        ...,\n",
       "        [0.0000000e+00, 0.0000000e+00, 7.0900000e+02, ..., 0.0000000e+00,\n",
       "         1.0000000e+00, 4.2085580e+04],\n",
       "        [1.0000000e+00, 0.0000000e+00, 7.7200000e+02, ..., 1.0000000e+00,\n",
       "         0.0000000e+00, 9.2888520e+04],\n",
       "        [0.0000000e+00, 0.0000000e+00, 7.9200000e+02, ..., 1.0000000e+00,\n",
       "         0.0000000e+00, 3.8190780e+04]]),\n",
       " array([1, 0, 1, ..., 1, 1, 0], dtype=int64))"
      ]
     },
     "execution_count": 6,
     "metadata": {},
     "output_type": "execute_result"
    }
   ],
   "source": [
    "X, y"
   ]
  },
  {
   "cell_type": "code",
   "execution_count": 7,
   "id": "b9070f10-07ab-4152-98e0-39c01425ba6d",
   "metadata": {},
   "outputs": [],
   "source": [
    "from sklearn.model_selection import train_test_split\n",
    "X_train, X_test, y_train, y_test = train_test_split(X,y,test_size = 0.25, random_state = 0)\n",
    "\n",
    "from sklearn.preprocessing import StandardScaler\n",
    "sc_X = StandardScaler()\n",
    "X_train = sc_X.fit_transform(X_train)\n",
    "X_test = sc_X.transform(X_test)"
   ]
  },
  {
   "cell_type": "code",
   "execution_count": 8,
   "id": "589002c4-e51a-4a15-9386-42150c374a62",
   "metadata": {},
   "outputs": [
    {
     "name": "stderr",
     "output_type": "stream",
     "text": [
      "Using TensorFlow backend.\n"
     ]
    }
   ],
   "source": [
    "import keras\n",
    "from tensorflow.keras.models import Sequential\n",
    "from tensorflow.keras.layers import Dense"
   ]
  },
  {
   "cell_type": "markdown",
   "id": "fd0bcb52-8de8-4a22-a101-df238e3278e3",
   "metadata": {},
   "source": [
    "#### Initialising the ANN"
   ]
  },
  {
   "cell_type": "code",
   "execution_count": 9,
   "id": "99169c6a-20ea-4f6a-951d-1caa26b52e66",
   "metadata": {},
   "outputs": [],
   "source": [
    "classifier = Sequential()"
   ]
  },
  {
   "cell_type": "markdown",
   "id": "e9e5edc7-36a0-405a-860c-18c4779f9c90",
   "metadata": {},
   "source": [
    "#### Adding the input layer and the first hidder layer"
   ]
  },
  {
   "cell_type": "code",
   "execution_count": 10,
   "id": "ba579fb4-a5d7-4b0e-95cf-0e9b216941ad",
   "metadata": {},
   "outputs": [],
   "source": [
    "classifier.add(Dense(units = 6, activation = 'relu'))"
   ]
  },
  {
   "cell_type": "markdown",
   "id": "7aba1b97-a0d2-4b83-a9e2-baeff50f5ad4",
   "metadata": {},
   "source": [
    "#### Adding the second hidden layer"
   ]
  },
  {
   "cell_type": "code",
   "execution_count": 11,
   "id": "dfe8165a-1ef7-47c9-b378-479f0d99750e",
   "metadata": {},
   "outputs": [],
   "source": [
    "classifier.add(Dense(units = 6, activation = 'relu'))"
   ]
  },
  {
   "cell_type": "markdown",
   "id": "91b15510-4027-4e19-8d7e-45cc9a7ba856",
   "metadata": {},
   "source": [
    "#### Adding the output layer"
   ]
  },
  {
   "cell_type": "code",
   "execution_count": 12,
   "id": "b2fe6149-fed7-45c4-84dd-558b75ca1b9d",
   "metadata": {},
   "outputs": [],
   "source": [
    "classifier.add(Dense(units = 1,activation = 'sigmoid'))"
   ]
  },
  {
   "cell_type": "markdown",
   "id": "c0860dc0-f6e5-4a97-b95a-0c8c4d85ee78",
   "metadata": {},
   "source": [
    "#### Compiling the ANN"
   ]
  },
  {
   "cell_type": "code",
   "execution_count": 13,
   "id": "e9c61bdc-4346-4f6f-a9b2-0a144ce3f171",
   "metadata": {},
   "outputs": [],
   "source": [
    "classifier.compile(optimizer = 'adam', loss = 'binary_crossentropy', metrics = ['accuracy'])"
   ]
  },
  {
   "cell_type": "markdown",
   "id": "5b73cd6b-d902-401d-a8b5-77a7b0910c9b",
   "metadata": {},
   "source": [
    "#### Fit the ANN to training set"
   ]
  },
  {
   "cell_type": "code",
   "execution_count": 14,
   "id": "316ed725-9f4d-4985-a57a-a802e1bdb3e0",
   "metadata": {},
   "outputs": [
    {
     "name": "stdout",
     "output_type": "stream",
     "text": [
      "Epoch 1/100\n",
      "750/750 [==============================] - 1s 1ms/step - loss: 0.4844 - accuracy: 0.7959\n",
      "Epoch 2/100\n",
      "750/750 [==============================] - 1s 1ms/step - loss: 0.4411 - accuracy: 0.7963\n",
      "Epoch 3/100\n",
      "750/750 [==============================] - 1s 1ms/step - loss: 0.4326 - accuracy: 0.7963\n",
      "Epoch 4/100\n",
      "750/750 [==============================] - 1s 1ms/step - loss: 0.4275 - accuracy: 0.7963\n",
      "Epoch 5/100\n",
      "750/750 [==============================] - 1s 2ms/step - loss: 0.4222 - accuracy: 0.8027\n",
      "Epoch 6/100\n",
      "750/750 [==============================] - 1s 2ms/step - loss: 0.4148 - accuracy: 0.8177\n",
      "Epoch 7/100\n",
      "750/750 [==============================] - 1s 1ms/step - loss: 0.4054 - accuracy: 0.8260\n",
      "Epoch 8/100\n",
      "750/750 [==============================] - 1s 1ms/step - loss: 0.3912 - accuracy: 0.8356\n",
      "Epoch 9/100\n",
      "750/750 [==============================] - 1s 2ms/step - loss: 0.3772 - accuracy: 0.8433\n",
      "Epoch 10/100\n",
      "750/750 [==============================] - 1s 1ms/step - loss: 0.3670 - accuracy: 0.8477\n",
      "Epoch 11/100\n",
      "750/750 [==============================] - 1s 1ms/step - loss: 0.3608 - accuracy: 0.8520\n",
      "Epoch 12/100\n",
      "750/750 [==============================] - 1s 1ms/step - loss: 0.3567 - accuracy: 0.8535\n",
      "Epoch 13/100\n",
      "750/750 [==============================] - 1s 1ms/step - loss: 0.3542 - accuracy: 0.8549\n",
      "Epoch 14/100\n",
      "750/750 [==============================] - 1s 1ms/step - loss: 0.3521 - accuracy: 0.8567\n",
      "Epoch 15/100\n",
      "750/750 [==============================] - 1s 1ms/step - loss: 0.3504 - accuracy: 0.8576\n",
      "Epoch 16/100\n",
      "750/750 [==============================] - 1s 1ms/step - loss: 0.3493 - accuracy: 0.8591\n",
      "Epoch 17/100\n",
      "750/750 [==============================] - 1s 1ms/step - loss: 0.3480 - accuracy: 0.8597\n",
      "Epoch 18/100\n",
      "750/750 [==============================] - 1s 1ms/step - loss: 0.3475 - accuracy: 0.8589\n",
      "Epoch 19/100\n",
      "750/750 [==============================] - 1s 991us/step - loss: 0.3472 - accuracy: 0.8587\n",
      "Epoch 20/100\n",
      "750/750 [==============================] - 1s 1ms/step - loss: 0.3457 - accuracy: 0.8604\n",
      "Epoch 21/100\n",
      "750/750 [==============================] - 1s 1ms/step - loss: 0.3464 - accuracy: 0.8601\n",
      "Epoch 22/100\n",
      "750/750 [==============================] - 1s 1ms/step - loss: 0.3454 - accuracy: 0.8609\n",
      "Epoch 23/100\n",
      "750/750 [==============================] - 1s 2ms/step - loss: 0.3451 - accuracy: 0.8595\n",
      "Epoch 24/100\n",
      "750/750 [==============================] - 1s 2ms/step - loss: 0.3451 - accuracy: 0.8593\n",
      "Epoch 25/100\n",
      "750/750 [==============================] - 1s 1ms/step - loss: 0.3444 - accuracy: 0.8613\n",
      "Epoch 26/100\n",
      "750/750 [==============================] - 1s 2ms/step - loss: 0.3444 - accuracy: 0.8587\n",
      "Epoch 27/100\n",
      "750/750 [==============================] - 1s 2ms/step - loss: 0.3437 - accuracy: 0.8605\n",
      "Epoch 28/100\n",
      "750/750 [==============================] - 1s 2ms/step - loss: 0.3440 - accuracy: 0.8591\n",
      "Epoch 29/100\n",
      "750/750 [==============================] - 1s 2ms/step - loss: 0.3427 - accuracy: 0.8604\n",
      "Epoch 30/100\n",
      "750/750 [==============================] - 1s 1ms/step - loss: 0.3426 - accuracy: 0.8605\n",
      "Epoch 31/100\n",
      "750/750 [==============================] - 1s 1ms/step - loss: 0.3420 - accuracy: 0.8625\n",
      "Epoch 32/100\n",
      "750/750 [==============================] - 1s 2ms/step - loss: 0.3414 - accuracy: 0.8593\n",
      "Epoch 33/100\n",
      "750/750 [==============================] - 1s 2ms/step - loss: 0.3412 - accuracy: 0.8616\n",
      "Epoch 34/100\n",
      "750/750 [==============================] - 1s 2ms/step - loss: 0.3410 - accuracy: 0.8605\n",
      "Epoch 35/100\n",
      "750/750 [==============================] - 1s 2ms/step - loss: 0.3403 - accuracy: 0.8600\n",
      "Epoch 36/100\n",
      "750/750 [==============================] - 1s 1ms/step - loss: 0.3408 - accuracy: 0.8611\n",
      "Epoch 37/100\n",
      "750/750 [==============================] - 1s 731us/step - loss: 0.3404 - accuracy: 0.8625\n",
      "Epoch 38/100\n",
      "750/750 [==============================] - 1s 769us/step - loss: 0.3399 - accuracy: 0.8603\n",
      "Epoch 39/100\n",
      "750/750 [==============================] - 1s 955us/step - loss: 0.3402 - accuracy: 0.8624\n",
      "Epoch 40/100\n",
      "750/750 [==============================] - 1s 1ms/step - loss: 0.3392 - accuracy: 0.8607\n",
      "Epoch 41/100\n",
      "750/750 [==============================] - 1s 1ms/step - loss: 0.3401 - accuracy: 0.8603\n",
      "Epoch 42/100\n",
      "750/750 [==============================] - 1s 1ms/step - loss: 0.3392 - accuracy: 0.8613\n",
      "Epoch 43/100\n",
      "750/750 [==============================] - 1s 1ms/step - loss: 0.3389 - accuracy: 0.8617\n",
      "Epoch 44/100\n",
      "750/750 [==============================] - 1s 1ms/step - loss: 0.3389 - accuracy: 0.8599\n",
      "Epoch 45/100\n",
      "750/750 [==============================] - 1s 1ms/step - loss: 0.3383 - accuracy: 0.8611\n",
      "Epoch 46/100\n",
      "750/750 [==============================] - 1s 1ms/step - loss: 0.3379 - accuracy: 0.8605\n",
      "Epoch 47/100\n",
      "750/750 [==============================] - 1s 1ms/step - loss: 0.3384 - accuracy: 0.8629\n",
      "Epoch 48/100\n",
      "750/750 [==============================] - 1s 1ms/step - loss: 0.3377 - accuracy: 0.8636\n",
      "Epoch 49/100\n",
      "750/750 [==============================] - 1s 948us/step - loss: 0.3372 - accuracy: 0.8624\n",
      "Epoch 50/100\n",
      "750/750 [==============================] - 1s 938us/step - loss: 0.3378 - accuracy: 0.8629\n",
      "Epoch 51/100\n",
      "750/750 [==============================] - 1s 942us/step - loss: 0.3371 - accuracy: 0.8617\n",
      "Epoch 52/100\n",
      "750/750 [==============================] - 1s 939us/step - loss: 0.3374 - accuracy: 0.8613\n",
      "Epoch 53/100\n",
      "750/750 [==============================] - 1s 931us/step - loss: 0.3369 - accuracy: 0.8624\n",
      "Epoch 54/100\n",
      "750/750 [==============================] - 1s 943us/step - loss: 0.3371 - accuracy: 0.8628\n",
      "Epoch 55/100\n",
      "750/750 [==============================] - 1s 964us/step - loss: 0.3371 - accuracy: 0.8597\n",
      "Epoch 56/100\n",
      "750/750 [==============================] - 1s 1ms/step - loss: 0.3360 - accuracy: 0.8623\n",
      "Epoch 57/100\n",
      "750/750 [==============================] - 1s 1ms/step - loss: 0.3365 - accuracy: 0.8635\n",
      "Epoch 58/100\n",
      "750/750 [==============================] - 1s 994us/step - loss: 0.3361 - accuracy: 0.8636\n",
      "Epoch 59/100\n",
      "750/750 [==============================] - 1s 1ms/step - loss: 0.3366 - accuracy: 0.8624\n",
      "Epoch 60/100\n",
      "750/750 [==============================] - 1s 1ms/step - loss: 0.3359 - accuracy: 0.8632\n",
      "Epoch 61/100\n",
      "750/750 [==============================] - 1s 1ms/step - loss: 0.3363 - accuracy: 0.8623\n",
      "Epoch 62/100\n",
      "750/750 [==============================] - 1s 1ms/step - loss: 0.3358 - accuracy: 0.8619\n",
      "Epoch 63/100\n",
      "750/750 [==============================] - 1s 1ms/step - loss: 0.3350 - accuracy: 0.8632\n",
      "Epoch 64/100\n",
      "750/750 [==============================] - 1s 1ms/step - loss: 0.3357 - accuracy: 0.8617\n",
      "Epoch 65/100\n",
      "750/750 [==============================] - 1s 1ms/step - loss: 0.3351 - accuracy: 0.8611\n",
      "Epoch 66/100\n",
      "750/750 [==============================] - 1s 1ms/step - loss: 0.3349 - accuracy: 0.8619\n",
      "Epoch 67/100\n",
      "750/750 [==============================] - 1s 1ms/step - loss: 0.3348 - accuracy: 0.8617\n",
      "Epoch 68/100\n",
      "750/750 [==============================] - 1s 1ms/step - loss: 0.3346 - accuracy: 0.8629\n",
      "Epoch 69/100\n",
      "750/750 [==============================] - 1s 1ms/step - loss: 0.3348 - accuracy: 0.8603\n",
      "Epoch 70/100\n",
      "750/750 [==============================] - 1s 996us/step - loss: 0.3346 - accuracy: 0.8615\n",
      "Epoch 71/100\n",
      "750/750 [==============================] - 1s 967us/step - loss: 0.3337 - accuracy: 0.8624\n",
      "Epoch 72/100\n",
      "750/750 [==============================] - 1s 977us/step - loss: 0.3338 - accuracy: 0.8637\n",
      "Epoch 73/100\n",
      "750/750 [==============================] - 1s 1ms/step - loss: 0.3346 - accuracy: 0.8629\n",
      "Epoch 74/100\n",
      "750/750 [==============================] - 1s 1ms/step - loss: 0.3341 - accuracy: 0.8635\n",
      "Epoch 75/100\n",
      "750/750 [==============================] - 1s 1ms/step - loss: 0.3330 - accuracy: 0.8633\n",
      "Epoch 76/100\n",
      "750/750 [==============================] - 1s 955us/step - loss: 0.3342 - accuracy: 0.8632\n",
      "Epoch 77/100\n",
      "750/750 [==============================] - 1s 987us/step - loss: 0.3333 - accuracy: 0.8647\n",
      "Epoch 78/100\n",
      "750/750 [==============================] - 1s 1ms/step - loss: 0.3334 - accuracy: 0.8632\n",
      "Epoch 79/100\n",
      "750/750 [==============================] - 1s 1ms/step - loss: 0.3329 - accuracy: 0.8655\n",
      "Epoch 80/100\n",
      "750/750 [==============================] - 1s 1ms/step - loss: 0.3323 - accuracy: 0.8643\n",
      "Epoch 81/100\n",
      "750/750 [==============================] - 1s 1ms/step - loss: 0.3330 - accuracy: 0.8651\n",
      "Epoch 82/100\n",
      "750/750 [==============================] - 1s 1ms/step - loss: 0.3332 - accuracy: 0.8631\n",
      "Epoch 83/100\n",
      "750/750 [==============================] - 1s 1ms/step - loss: 0.3320 - accuracy: 0.8641\n",
      "Epoch 84/100\n",
      "750/750 [==============================] - 1s 963us/step - loss: 0.3321 - accuracy: 0.8659\n",
      "Epoch 85/100\n",
      "750/750 [==============================] - 1s 1ms/step - loss: 0.3323 - accuracy: 0.8643\n",
      "Epoch 86/100\n",
      "750/750 [==============================] - 1s 1ms/step - loss: 0.3322 - accuracy: 0.8649\n",
      "Epoch 87/100\n",
      "750/750 [==============================] - 1s 1ms/step - loss: 0.3321 - accuracy: 0.8643\n",
      "Epoch 88/100\n",
      "750/750 [==============================] - 1s 1ms/step - loss: 0.3321 - accuracy: 0.8643\n",
      "Epoch 89/100\n",
      "750/750 [==============================] - 1s 1ms/step - loss: 0.3320 - accuracy: 0.8637\n",
      "Epoch 90/100\n",
      "750/750 [==============================] - 1s 985us/step - loss: 0.3318 - accuracy: 0.8643\n",
      "Epoch 91/100\n",
      "750/750 [==============================] - 1s 1ms/step - loss: 0.3317 - accuracy: 0.8643\n",
      "Epoch 92/100\n",
      "750/750 [==============================] - 1s 1ms/step - loss: 0.3318 - accuracy: 0.8633\n",
      "Epoch 93/100\n",
      "750/750 [==============================] - 1s 1ms/step - loss: 0.3315 - accuracy: 0.8649\n",
      "Epoch 94/100\n",
      "750/750 [==============================] - 1s 1ms/step - loss: 0.3316 - accuracy: 0.8636\n",
      "Epoch 95/100\n",
      "750/750 [==============================] - 1s 1ms/step - loss: 0.3318 - accuracy: 0.8659\n",
      "Epoch 96/100\n",
      "750/750 [==============================] - 1s 1ms/step - loss: 0.3310 - accuracy: 0.8637\n",
      "Epoch 97/100\n",
      "750/750 [==============================] - 1s 1ms/step - loss: 0.3314 - accuracy: 0.8631\n",
      "Epoch 98/100\n",
      "750/750 [==============================] - 1s 1ms/step - loss: 0.3311 - accuracy: 0.8632\n",
      "Epoch 99/100\n",
      "750/750 [==============================] - 1s 992us/step - loss: 0.3311 - accuracy: 0.8632\n",
      "Epoch 100/100\n",
      "750/750 [==============================] - 1s 1ms/step - loss: 0.3308 - accuracy: 0.8641\n"
     ]
    },
    {
     "data": {
      "text/plain": [
       "<tensorflow.python.keras.callbacks.History at 0x214fb18a438>"
      ]
     },
     "execution_count": 14,
     "metadata": {},
     "output_type": "execute_result"
    }
   ],
   "source": [
    "classifier.fit(X_train, y_train, batch_size = 10, epochs = 100)"
   ]
  },
  {
   "cell_type": "markdown",
   "id": "51fdcad3-0c25-4ee4-bcc2-d24bccbf2fd7",
   "metadata": {},
   "source": [
    "observing the accuracies above, we can see that the final accuracy will be around 86%"
   ]
  },
  {
   "cell_type": "code",
   "execution_count": 15,
   "id": "8dab2a8a-ea33-400b-af56-6e75ebd0f18e",
   "metadata": {},
   "outputs": [
    {
     "data": {
      "text/plain": [
       "array([[1872,  119],\n",
       "       [ 234,  275]], dtype=int64)"
      ]
     },
     "execution_count": 15,
     "metadata": {},
     "output_type": "execute_result"
    }
   ],
   "source": [
    "y_pred = classifier.predict(X_test)\n",
    "y_pred = (y_pred > 0.5)\n",
    "from sklearn.metrics import confusion_matrix\n",
    "cm = confusion_matrix(y_test, y_pred)\n",
    "cm"
   ]
  },
  {
   "cell_type": "code",
   "execution_count": 16,
   "id": "6dea5e6b-e67a-440c-90e9-f41ac593f9a1",
   "metadata": {},
   "outputs": [
    {
     "name": "stdout",
     "output_type": "stream",
     "text": [
      "Accuracy of the model is 85.88 %\n"
     ]
    }
   ],
   "source": [
    "from sklearn.metrics import accuracy_score\n",
    "print('Accuracy of the model is',accuracy_score(y_test, y_pred)*100,'%')"
   ]
  }
 ],
 "metadata": {
  "kernelspec": {
   "display_name": "Python 3",
   "language": "python",
   "name": "python3"
  },
  "language_info": {
   "codemirror_mode": {
    "name": "ipython",
    "version": 3
   },
   "file_extension": ".py",
   "mimetype": "text/x-python",
   "name": "python",
   "nbconvert_exporter": "python",
   "pygments_lexer": "ipython3",
   "version": "3.7.0"
  }
 },
 "nbformat": 4,
 "nbformat_minor": 5
}
